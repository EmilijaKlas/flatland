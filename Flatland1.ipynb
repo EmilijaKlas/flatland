{
 "cells": [
  {
   "cell_type": "code",
   "execution_count": 1,
   "id": "ec207bd3",
   "metadata": {},
   "outputs": [],
   "source": [
    "from collections import Counter\n",
    "from tensorflow import keras\n",
    "import numpy as np\n",
    "import pandas as pd\n",
    "from sklearn.model_selection import train_test_split"
   ]
  },
  {
   "cell_type": "code",
   "execution_count": 2,
   "id": "7bd9e669",
   "metadata": {},
   "outputs": [],
   "source": [
    "import gzip\n",
    "import pickle\n",
    "\n",
    "def evaluate(path, model):\n",
    "    X, y = pickle.load(gzip.open(path, 'rb'))\n",
    "    y[y != 0] -= 2\n",
    "    X = X / 255.\n",
    "    acc = np.mean(model(X).numpy().argmax(axis=1) == y)\n",
    "    return acc"
   ]
  },
  {
   "cell_type": "markdown",
   "id": "39100df2",
   "metadata": {},
   "source": [
    "# Loading data"
   ]
  },
  {
   "cell_type": "code",
   "execution_count": 3,
   "id": "dc3fc9e6",
   "metadata": {},
   "outputs": [],
   "source": [
    "path = 'flatland_train.data'\n",
    "X, y = pickle.load(gzip.open(path, 'rb'))\n",
    "\n",
    "# data pre-proc\n",
    "y[y != 0] -= 2  # labels from 0 to 4\n",
    "X = X / 255.    # in range [0,1]"
   ]
  },
  {
   "cell_type": "code",
   "execution_count": 4,
   "id": "80bb96d5",
   "metadata": {
    "scrolled": true
   },
   "outputs": [
    {
     "data": {
      "text/plain": [
       "Counter({2.0: 1868, 4.0: 1761, 3.0: 2137, 1.0: 2853, 0.0: 1381})"
      ]
     },
     "execution_count": 4,
     "metadata": {},
     "output_type": "execute_result"
    }
   ],
   "source": [
    "Counter(y)"
   ]
  },
  {
   "cell_type": "code",
   "execution_count": 5,
   "id": "9a3d1a71",
   "metadata": {},
   "outputs": [],
   "source": [
    "X_train, X_test, y_train, y_test = train_test_split(X, y)"
   ]
  },
  {
   "cell_type": "code",
   "execution_count": 6,
   "id": "8cac2576",
   "metadata": {
    "scrolled": true
   },
   "outputs": [
    {
     "data": {
      "text/plain": [
       "(7500, 50, 50)"
      ]
     },
     "execution_count": 6,
     "metadata": {},
     "output_type": "execute_result"
    }
   ],
   "source": [
    "X_train.shape"
   ]
  },
  {
   "cell_type": "code",
   "execution_count": 7,
   "id": "3cec919a",
   "metadata": {},
   "outputs": [
    {
     "data": {
      "text/plain": [
       "(7500,)"
      ]
     },
     "execution_count": 7,
     "metadata": {},
     "output_type": "execute_result"
    }
   ],
   "source": [
    "y_train.shape"
   ]
  },
  {
   "cell_type": "markdown",
   "id": "e3784ab1",
   "metadata": {},
   "source": [
    "# DNN "
   ]
  },
  {
   "cell_type": "code",
   "execution_count": 8,
   "id": "e4aa545a",
   "metadata": {
    "scrolled": true
   },
   "outputs": [
    {
     "name": "stdout",
     "output_type": "stream",
     "text": [
      "Model: \"sequential\"\n",
      "_________________________________________________________________\n",
      " Layer (type)                Output Shape              Param #   \n",
      "=================================================================\n",
      " flatten (Flatten)           (None, 2500)              0         \n",
      "                                                                 \n",
      " dense (Dense)               (None, 40)                100040    \n",
      "                                                                 \n",
      " dense_1 (Dense)             (None, 20)                820       \n",
      "                                                                 \n",
      " dense_2 (Dense)             (None, 10)                210       \n",
      "                                                                 \n",
      "=================================================================\n",
      "Total params: 101,070\n",
      "Trainable params: 101,070\n",
      "Non-trainable params: 0\n",
      "_________________________________________________________________\n"
     ]
    }
   ],
   "source": [
    "model = keras.models.Sequential()\n",
    "model.add(keras.layers.Flatten(input_shape = (50, 50)))\n",
    "model.add(keras.layers.Dense(40, activation = 'relu'))\n",
    "model.add(keras.layers.Dense(20, activation = 'relu'))\n",
    "model.add(keras.layers.Dense(10, activation = 'softmax'))\n",
    "model.compile(loss = 'sparse_categorical_crossentropy', \n",
    "              optimizer = 'sgd',\n",
    "              metrics = ['accuracy'])\n",
    "model.summary()"
   ]
  },
  {
   "cell_type": "code",
   "execution_count": 9,
   "id": "d9cee81f",
   "metadata": {},
   "outputs": [
    {
     "name": "stdout",
     "output_type": "stream",
     "text": [
      "Epoch 1/40\n",
      "235/235 [==============================] - 1s 4ms/step - loss: 1.6347 - accuracy: 0.3507 - val_loss: 1.4442 - val_accuracy: 0.4120\n",
      "Epoch 2/40\n",
      "235/235 [==============================] - 1s 3ms/step - loss: 1.3633 - accuracy: 0.4613 - val_loss: 1.3363 - val_accuracy: 0.4580\n",
      "Epoch 3/40\n",
      "235/235 [==============================] - 1s 3ms/step - loss: 1.2650 - accuracy: 0.4852 - val_loss: 1.3149 - val_accuracy: 0.4732\n",
      "Epoch 4/40\n",
      "235/235 [==============================] - 1s 4ms/step - loss: 1.2099 - accuracy: 0.4963 - val_loss: 1.2302 - val_accuracy: 0.4720\n",
      "Epoch 5/40\n",
      "235/235 [==============================] - 1s 3ms/step - loss: 1.1740 - accuracy: 0.5048 - val_loss: 1.1771 - val_accuracy: 0.5080\n",
      "Epoch 6/40\n",
      "235/235 [==============================] - 1s 4ms/step - loss: 1.1418 - accuracy: 0.5184 - val_loss: 1.1466 - val_accuracy: 0.5184\n",
      "Epoch 7/40\n",
      "235/235 [==============================] - 1s 6ms/step - loss: 1.1131 - accuracy: 0.5348 - val_loss: 1.1351 - val_accuracy: 0.5188\n",
      "Epoch 8/40\n",
      "235/235 [==============================] - 1s 4ms/step - loss: 1.0840 - accuracy: 0.5388 - val_loss: 1.2908 - val_accuracy: 0.4476\n",
      "Epoch 9/40\n",
      "235/235 [==============================] - 1s 3ms/step - loss: 1.0582 - accuracy: 0.5585 - val_loss: 1.1155 - val_accuracy: 0.5368\n",
      "Epoch 10/40\n",
      "235/235 [==============================] - 1s 3ms/step - loss: 1.0296 - accuracy: 0.5637 - val_loss: 1.0800 - val_accuracy: 0.5420\n",
      "Epoch 11/40\n",
      "235/235 [==============================] - 1s 3ms/step - loss: 1.0001 - accuracy: 0.5837 - val_loss: 1.0943 - val_accuracy: 0.5232\n",
      "Epoch 12/40\n",
      "235/235 [==============================] - 1s 3ms/step - loss: 0.9716 - accuracy: 0.5956 - val_loss: 1.0384 - val_accuracy: 0.5432\n",
      "Epoch 13/40\n",
      "235/235 [==============================] - 1s 3ms/step - loss: 0.9474 - accuracy: 0.6092 - val_loss: 1.0601 - val_accuracy: 0.5140\n",
      "Epoch 14/40\n",
      "235/235 [==============================] - 1s 5ms/step - loss: 0.9207 - accuracy: 0.6197 - val_loss: 1.0143 - val_accuracy: 0.5700\n",
      "Epoch 15/40\n",
      "235/235 [==============================] - 1s 4ms/step - loss: 0.8931 - accuracy: 0.6335 - val_loss: 0.9620 - val_accuracy: 0.6044\n",
      "Epoch 16/40\n",
      "235/235 [==============================] - 1s 3ms/step - loss: 0.8660 - accuracy: 0.6437 - val_loss: 0.9709 - val_accuracy: 0.5880\n",
      "Epoch 17/40\n",
      "235/235 [==============================] - 1s 3ms/step - loss: 0.8445 - accuracy: 0.6564 - val_loss: 0.9529 - val_accuracy: 0.6008\n",
      "Epoch 18/40\n",
      "235/235 [==============================] - 1s 3ms/step - loss: 0.8257 - accuracy: 0.6681 - val_loss: 0.9212 - val_accuracy: 0.6212\n",
      "Epoch 19/40\n",
      "235/235 [==============================] - 1s 3ms/step - loss: 0.8020 - accuracy: 0.6783 - val_loss: 0.9161 - val_accuracy: 0.6196\n",
      "Epoch 20/40\n",
      "235/235 [==============================] - 1s 5ms/step - loss: 0.7796 - accuracy: 0.6860 - val_loss: 0.9389 - val_accuracy: 0.6020\n",
      "Epoch 21/40\n",
      "235/235 [==============================] - 1s 4ms/step - loss: 0.7560 - accuracy: 0.6996 - val_loss: 0.9426 - val_accuracy: 0.6000\n",
      "Epoch 22/40\n",
      "235/235 [==============================] - 1s 3ms/step - loss: 0.7378 - accuracy: 0.7009 - val_loss: 0.8534 - val_accuracy: 0.6272\n",
      "Epoch 23/40\n",
      "235/235 [==============================] - 1s 4ms/step - loss: 0.7229 - accuracy: 0.7092 - val_loss: 0.8385 - val_accuracy: 0.6508\n",
      "Epoch 24/40\n",
      "235/235 [==============================] - 1s 4ms/step - loss: 0.7059 - accuracy: 0.7139 - val_loss: 0.8571 - val_accuracy: 0.6540\n",
      "Epoch 25/40\n",
      "235/235 [==============================] - 1s 4ms/step - loss: 0.6963 - accuracy: 0.7171 - val_loss: 0.8388 - val_accuracy: 0.6488\n",
      "Epoch 26/40\n",
      "235/235 [==============================] - 1s 4ms/step - loss: 0.6701 - accuracy: 0.7331 - val_loss: 0.7959 - val_accuracy: 0.6776\n",
      "Epoch 27/40\n",
      "235/235 [==============================] - 1s 3ms/step - loss: 0.6640 - accuracy: 0.7360 - val_loss: 0.8497 - val_accuracy: 0.6624\n",
      "Epoch 28/40\n",
      "235/235 [==============================] - 1s 4ms/step - loss: 0.6526 - accuracy: 0.7372 - val_loss: 0.8383 - val_accuracy: 0.6136\n",
      "Epoch 29/40\n",
      "235/235 [==============================] - 1s 5ms/step - loss: 0.6368 - accuracy: 0.7405 - val_loss: 0.7811 - val_accuracy: 0.6824\n",
      "Epoch 30/40\n",
      "235/235 [==============================] - 1s 4ms/step - loss: 0.6208 - accuracy: 0.7515 - val_loss: 0.7672 - val_accuracy: 0.6784\n",
      "Epoch 31/40\n",
      "235/235 [==============================] - 1s 4ms/step - loss: 0.6102 - accuracy: 0.7576 - val_loss: 0.8066 - val_accuracy: 0.6752\n",
      "Epoch 32/40\n",
      "235/235 [==============================] - 1s 5ms/step - loss: 0.5945 - accuracy: 0.7636 - val_loss: 0.7748 - val_accuracy: 0.6864\n",
      "Epoch 33/40\n",
      "235/235 [==============================] - 1s 5ms/step - loss: 0.5836 - accuracy: 0.7677 - val_loss: 0.8510 - val_accuracy: 0.6676\n",
      "Epoch 34/40\n",
      "235/235 [==============================] - 1s 5ms/step - loss: 0.5689 - accuracy: 0.7748 - val_loss: 0.7506 - val_accuracy: 0.6864\n",
      "Epoch 35/40\n",
      "235/235 [==============================] - 1s 3ms/step - loss: 0.5623 - accuracy: 0.7728 - val_loss: 0.7394 - val_accuracy: 0.7008\n",
      "Epoch 36/40\n",
      "235/235 [==============================] - 1s 5ms/step - loss: 0.5490 - accuracy: 0.7807 - val_loss: 0.8154 - val_accuracy: 0.6868\n",
      "Epoch 37/40\n",
      "235/235 [==============================] - 1s 3ms/step - loss: 0.5449 - accuracy: 0.7811 - val_loss: 0.8373 - val_accuracy: 0.6448\n",
      "Epoch 38/40\n",
      "235/235 [==============================] - 1s 5ms/step - loss: 0.5310 - accuracy: 0.7883 - val_loss: 0.7435 - val_accuracy: 0.6952\n",
      "Epoch 39/40\n",
      "235/235 [==============================] - 1s 3ms/step - loss: 0.5297 - accuracy: 0.7905 - val_loss: 0.8042 - val_accuracy: 0.6724\n",
      "Epoch 40/40\n",
      "235/235 [==============================] - 1s 3ms/step - loss: 0.5183 - accuracy: 0.7967 - val_loss: 0.8924 - val_accuracy: 0.6596\n"
     ]
    }
   ],
   "source": [
    "loss = model.fit(X_train, y_train, validation_data = (X_test, y_test), epochs = 40)"
   ]
  },
  {
   "cell_type": "code",
   "execution_count": 10,
   "id": "871adea1",
   "metadata": {
    "scrolled": true
   },
   "outputs": [
    {
     "data": {
      "text/plain": [
       "<AxesSubplot:>"
      ]
     },
     "execution_count": 10,
     "metadata": {},
     "output_type": "execute_result"
    },
    {
     "data": {
      "image/png": "[encoded data removed]",
      "text/plain": [
       "<Figure size 432x288 with 1 Axes>"
      ]
     },
     "metadata": {
      "needs_background": "light"
     },
     "output_type": "display_data"
    }
   ],
   "source": [
    "pd.DataFrame(loss.history)[['loss', 'val_loss']].plot()"
   ]
  },
  {
   "cell_type": "markdown",
   "id": "9d29c33b",
   "metadata": {},
   "source": [
    " "
   ]
  },
  {
   "cell_type": "markdown",
   "id": "7a90354b",
   "metadata": {},
   "source": [
    "Pakeista optimizer iš 'sgd' į keras.optimizers.SGD(learning_rate = 0.01)"
   ]
  },
  {
   "cell_type": "code",
   "execution_count": 11,
   "id": "3097e34e",
   "metadata": {
    "scrolled": true
   },
   "outputs": [
    {
     "name": "stdout",
     "output_type": "stream",
     "text": [
      "Model: \"sequential_1\"\n",
      "_________________________________________________________________\n",
      " Layer (type)                Output Shape              Param #   \n",
      "=================================================================\n",
      " flatten_1 (Flatten)         (None, 2500)              0         \n",
      "                                                                 \n",
      " dense_3 (Dense)             (None, 40)                100040    \n",
      "                                                                 \n",
      " dense_4 (Dense)             (None, 20)                820       \n",
      "                                                                 \n",
      " dense_5 (Dense)             (None, 10)                210       \n",
      "                                                                 \n",
      "=================================================================\n",
      "Total params: 101,070\n",
      "Trainable params: 101,070\n",
      "Non-trainable params: 0\n",
      "_________________________________________________________________\n"
     ]
    }
   ],
   "source": [
    "model = keras.models.Sequential()\n",
    "model.add(keras.layers.Flatten(input_shape = (50, 50)))\n",
    "model.add(keras.layers.Dense(40, activation = 'relu'))\n",
    "model.add(keras.layers.Dense(20, activation = 'relu'))\n",
    "model.add(keras.layers.Dense(10, activation = 'softmax'))\n",
    "model.compile(loss = 'sparse_categorical_crossentropy', \n",
    "              optimizer = keras.optimizers.SGD(learning_rate = 0.01),\n",
    "              metrics = ['accuracy'])\n",
    "model.summary()"
   ]
  },
  {
   "cell_type": "code",
   "execution_count": 12,
   "id": "eb4cddc8",
   "metadata": {},
   "outputs": [
    {
     "name": "stdout",
     "output_type": "stream",
     "text": [
      "Epoch 1/40\n",
      "235/235 [==============================] - 2s 5ms/step - loss: 1.6367 - accuracy: 0.3231 - val_loss: 1.4617 - val_accuracy: 0.4312\n",
      "Epoch 2/40\n",
      "235/235 [==============================] - 1s 4ms/step - loss: 1.3825 - accuracy: 0.4329 - val_loss: 1.3342 - val_accuracy: 0.4636\n",
      "Epoch 3/40\n",
      "235/235 [==============================] - 1s 3ms/step - loss: 1.2806 - accuracy: 0.4700 - val_loss: 1.2844 - val_accuracy: 0.4500\n",
      "Epoch 4/40\n",
      "235/235 [==============================] - 2s 7ms/step - loss: 1.2335 - accuracy: 0.4779 - val_loss: 1.2321 - val_accuracy: 0.4984\n",
      "Epoch 5/40\n",
      "235/235 [==============================] - 1s 3ms/step - loss: 1.2007 - accuracy: 0.4907 - val_loss: 1.2578 - val_accuracy: 0.4736\n",
      "Epoch 6/40\n",
      "235/235 [==============================] - 1s 3ms/step - loss: 1.1745 - accuracy: 0.5039 - val_loss: 1.1862 - val_accuracy: 0.5108\n",
      "Epoch 7/40\n",
      "235/235 [==============================] - 1s 3ms/step - loss: 1.1522 - accuracy: 0.5149 - val_loss: 1.1817 - val_accuracy: 0.4908\n",
      "Epoch 8/40\n",
      "235/235 [==============================] - 1s 6ms/step - loss: 1.1242 - accuracy: 0.5252 - val_loss: 1.1641 - val_accuracy: 0.5152\n",
      "Epoch 9/40\n",
      "235/235 [==============================] - 1s 4ms/step - loss: 1.1044 - accuracy: 0.5335 - val_loss: 1.1294 - val_accuracy: 0.5124\n",
      "Epoch 10/40\n",
      "235/235 [==============================] - 1s 4ms/step - loss: 1.0801 - accuracy: 0.5464 - val_loss: 1.0951 - val_accuracy: 0.5364\n",
      "Epoch 11/40\n",
      "235/235 [==============================] - 1s 3ms/step - loss: 1.0457 - accuracy: 0.5643 - val_loss: 1.1142 - val_accuracy: 0.5324\n",
      "Epoch 12/40\n",
      "235/235 [==============================] - 1s 3ms/step - loss: 1.0197 - accuracy: 0.5780 - val_loss: 1.0505 - val_accuracy: 0.5472\n",
      "Epoch 13/40\n",
      "235/235 [==============================] - 1s 3ms/step - loss: 0.9922 - accuracy: 0.5931 - val_loss: 1.2887 - val_accuracy: 0.4656\n",
      "Epoch 14/40\n",
      "235/235 [==============================] - 1s 3ms/step - loss: 0.9573 - accuracy: 0.6079 - val_loss: 1.0452 - val_accuracy: 0.5672\n",
      "Epoch 15/40\n",
      "235/235 [==============================] - 1s 3ms/step - loss: 0.9228 - accuracy: 0.6320 - val_loss: 1.0263 - val_accuracy: 0.5564\n",
      "Epoch 16/40\n",
      "235/235 [==============================] - 1s 3ms/step - loss: 0.8960 - accuracy: 0.6404 - val_loss: 1.0526 - val_accuracy: 0.5412\n",
      "Epoch 17/40\n",
      "235/235 [==============================] - 1s 3ms/step - loss: 0.8652 - accuracy: 0.6501 - val_loss: 0.9151 - val_accuracy: 0.6144\n",
      "Epoch 18/40\n",
      "235/235 [==============================] - 1s 3ms/step - loss: 0.8367 - accuracy: 0.6621 - val_loss: 1.0058 - val_accuracy: 0.5620\n",
      "Epoch 19/40\n",
      "235/235 [==============================] - 1s 3ms/step - loss: 0.8119 - accuracy: 0.6773 - val_loss: 0.9343 - val_accuracy: 0.6028\n",
      "Epoch 20/40\n",
      "235/235 [==============================] - 1s 3ms/step - loss: 0.7839 - accuracy: 0.6872 - val_loss: 0.8946 - val_accuracy: 0.6204\n",
      "Epoch 21/40\n",
      "235/235 [==============================] - 1s 3ms/step - loss: 0.7608 - accuracy: 0.6976 - val_loss: 0.8793 - val_accuracy: 0.6212\n",
      "Epoch 22/40\n",
      "235/235 [==============================] - 1s 3ms/step - loss: 0.7404 - accuracy: 0.7047 - val_loss: 0.9837 - val_accuracy: 0.5968\n",
      "Epoch 23/40\n",
      "235/235 [==============================] - 1s 3ms/step - loss: 0.7148 - accuracy: 0.7163 - val_loss: 0.8394 - val_accuracy: 0.6488\n",
      "Epoch 24/40\n",
      "235/235 [==============================] - 1s 3ms/step - loss: 0.6992 - accuracy: 0.7211 - val_loss: 0.8110 - val_accuracy: 0.6656\n",
      "Epoch 25/40\n",
      "235/235 [==============================] - 1s 4ms/step - loss: 0.6780 - accuracy: 0.7281 - val_loss: 0.8400 - val_accuracy: 0.6592\n",
      "Epoch 26/40\n",
      "235/235 [==============================] - 1s 3ms/step - loss: 0.6620 - accuracy: 0.7343 - val_loss: 0.8036 - val_accuracy: 0.6812\n",
      "Epoch 27/40\n",
      "235/235 [==============================] - 1s 4ms/step - loss: 0.6447 - accuracy: 0.7441 - val_loss: 0.9142 - val_accuracy: 0.6324\n",
      "Epoch 28/40\n",
      "235/235 [==============================] - 1s 3ms/step - loss: 0.6320 - accuracy: 0.7523 - val_loss: 0.7948 - val_accuracy: 0.6692\n",
      "Epoch 29/40\n",
      "235/235 [==============================] - 1s 3ms/step - loss: 0.6153 - accuracy: 0.7541 - val_loss: 0.7829 - val_accuracy: 0.6796\n",
      "Epoch 30/40\n",
      "235/235 [==============================] - 1s 3ms/step - loss: 0.6085 - accuracy: 0.7569 - val_loss: 0.7585 - val_accuracy: 0.6856\n",
      "Epoch 31/40\n",
      "235/235 [==============================] - 1s 5ms/step - loss: 0.5923 - accuracy: 0.7640 - val_loss: 0.9912 - val_accuracy: 0.6036\n",
      "Epoch 32/40\n",
      "235/235 [==============================] - 2s 7ms/step - loss: 0.5788 - accuracy: 0.7775 - val_loss: 0.8951 - val_accuracy: 0.6124\n",
      "Epoch 33/40\n",
      "235/235 [==============================] - 1s 5ms/step - loss: 0.5624 - accuracy: 0.7739 - val_loss: 0.7527 - val_accuracy: 0.7068\n",
      "Epoch 34/40\n",
      "235/235 [==============================] - 1s 3ms/step - loss: 0.5581 - accuracy: 0.7812 - val_loss: 0.9548 - val_accuracy: 0.6192\n",
      "Epoch 35/40\n",
      "235/235 [==============================] - 1s 5ms/step - loss: 0.5450 - accuracy: 0.7839 - val_loss: 0.8554 - val_accuracy: 0.6840\n",
      "Epoch 36/40\n",
      "235/235 [==============================] - 1s 3ms/step - loss: 0.5401 - accuracy: 0.7887 - val_loss: 0.8215 - val_accuracy: 0.6472\n",
      "Epoch 37/40\n",
      "235/235 [==============================] - 1s 5ms/step - loss: 0.5283 - accuracy: 0.7908 - val_loss: 0.7943 - val_accuracy: 0.6884\n",
      "Epoch 38/40\n",
      "235/235 [==============================] - 1s 4ms/step - loss: 0.5304 - accuracy: 0.7908 - val_loss: 0.7781 - val_accuracy: 0.6744\n",
      "Epoch 39/40\n",
      "235/235 [==============================] - 1s 4ms/step - loss: 0.5020 - accuracy: 0.8052 - val_loss: 0.8289 - val_accuracy: 0.6636\n",
      "Epoch 40/40\n",
      "235/235 [==============================] - 1s 3ms/step - loss: 0.4962 - accuracy: 0.8056 - val_loss: 0.8987 - val_accuracy: 0.6476\n"
     ]
    }
   ],
   "source": [
    "loss = model.fit(X_train, y_train, validation_data = (X_test, y_test), epochs = 40)"
   ]
  },
  {
   "cell_type": "code",
   "execution_count": 13,
   "id": "407a1690",
   "metadata": {
    "scrolled": true
   },
   "outputs": [
    {
     "data": {
      "text/plain": [
       "<AxesSubplot:>"
      ]
     },
     "execution_count": 13,
     "metadata": {},
     "output_type": "execute_result"
    },
    {
     "data": {
      "image/png": "[encoded data removed]",
      "text/plain": [
       "<Figure size 432x288 with 1 Axes>"
      ]
     },
     "metadata": {
      "needs_background": "light"
     },
     "output_type": "display_data"
    }
   ],
   "source": [
    "pd.DataFrame(loss.history)[['loss', 'val_loss']].plot()"
   ]
  },
  {
   "cell_type": "markdown",
   "id": "bbc59105",
   "metadata": {},
   "source": [
    " "
   ]
  },
  {
   "cell_type": "markdown",
   "id": "69992d05",
   "metadata": {},
   "source": [
    "Pakeista optimizer iš keras.optimizers.SGD(learning_rate = 0.01) į keras.optimizers.Adam(3e-4)"
   ]
  },
  {
   "cell_type": "code",
   "execution_count": 14,
   "id": "f2279925",
   "metadata": {},
   "outputs": [
    {
     "name": "stdout",
     "output_type": "stream",
     "text": [
      "Model: \"sequential_2\"\n",
      "_________________________________________________________________\n",
      " Layer (type)                Output Shape              Param #   \n",
      "=================================================================\n",
      " flatten_2 (Flatten)         (None, 2500)              0         \n",
      "                                                                 \n",
      " dense_6 (Dense)             (None, 64)                160064    \n",
      "                                                                 \n",
      " dense_7 (Dense)             (None, 32)                2080      \n",
      "                                                                 \n",
      " dense_8 (Dense)             (None, 10)                330       \n",
      "                                                                 \n",
      "=================================================================\n",
      "Total params: 162,474\n",
      "Trainable params: 162,474\n",
      "Non-trainable params: 0\n",
      "_________________________________________________________________\n"
     ]
    }
   ],
   "source": [
    "model = keras.models.Sequential()\n",
    "model.add(keras.layers.Flatten(input_shape = (50, 50)))\n",
    "model.add(keras.layers.Dense(64, activation = 'relu'))\n",
    "model.add(keras.layers.Dense(32, activation = 'relu'))\n",
    "model.add(keras.layers.Dense(10, activation = 'softmax'))\n",
    "model.compile(loss = 'sparse_categorical_crossentropy', \n",
    "              optimizer = keras.optimizers.Adam(3e-4),\n",
    "              metrics = ['accuracy'])\n",
    "model.summary()"
   ]
  },
  {
   "cell_type": "code",
   "execution_count": 15,
   "id": "151aee93",
   "metadata": {},
   "outputs": [
    {
     "name": "stdout",
     "output_type": "stream",
     "text": [
      "Epoch 1/20\n",
      "235/235 [==============================] - 3s 8ms/step - loss: 1.5058 - accuracy: 0.4048 - val_loss: 1.2870 - val_accuracy: 0.4972\n",
      "Epoch 2/20\n",
      "235/235 [==============================] - 1s 5ms/step - loss: 1.2101 - accuracy: 0.5003 - val_loss: 1.1560 - val_accuracy: 0.5320\n",
      "Epoch 3/20\n",
      "235/235 [==============================] - 1s 3ms/step - loss: 1.0961 - accuracy: 0.5501 - val_loss: 1.0878 - val_accuracy: 0.5400\n",
      "Epoch 4/20\n",
      "235/235 [==============================] - 1s 4ms/step - loss: 1.0053 - accuracy: 0.5944 - val_loss: 1.0314 - val_accuracy: 0.5676\n",
      "Epoch 5/20\n",
      "235/235 [==============================] - 1s 3ms/step - loss: 0.9303 - accuracy: 0.6257 - val_loss: 0.9480 - val_accuracy: 0.6044\n",
      "Epoch 6/20\n",
      "235/235 [==============================] - 1s 3ms/step - loss: 0.8602 - accuracy: 0.6597 - val_loss: 0.8862 - val_accuracy: 0.6416\n",
      "Epoch 7/20\n",
      "235/235 [==============================] - 1s 3ms/step - loss: 0.7985 - accuracy: 0.6843 - val_loss: 0.8466 - val_accuracy: 0.6528\n",
      "Epoch 8/20\n",
      "235/235 [==============================] - 1s 3ms/step - loss: 0.7395 - accuracy: 0.7161 - val_loss: 0.8167 - val_accuracy: 0.6576\n",
      "Epoch 9/20\n",
      "235/235 [==============================] - 1s 3ms/step - loss: 0.6922 - accuracy: 0.7391 - val_loss: 0.7696 - val_accuracy: 0.6788\n",
      "Epoch 10/20\n",
      "235/235 [==============================] - 1s 3ms/step - loss: 0.6514 - accuracy: 0.7503 - val_loss: 0.7789 - val_accuracy: 0.6800\n",
      "Epoch 11/20\n",
      "235/235 [==============================] - 1s 3ms/step - loss: 0.6159 - accuracy: 0.7659 - val_loss: 0.7345 - val_accuracy: 0.7132\n",
      "Epoch 12/20\n",
      "235/235 [==============================] - 1s 3ms/step - loss: 0.5807 - accuracy: 0.7851 - val_loss: 0.7443 - val_accuracy: 0.7056\n",
      "Epoch 13/20\n",
      "235/235 [==============================] - 1s 3ms/step - loss: 0.5533 - accuracy: 0.7913 - val_loss: 0.6841 - val_accuracy: 0.7320\n",
      "Epoch 14/20\n",
      "235/235 [==============================] - 1s 3ms/step - loss: 0.5253 - accuracy: 0.8037 - val_loss: 0.7104 - val_accuracy: 0.7320\n",
      "Epoch 15/20\n",
      "235/235 [==============================] - 1s 3ms/step - loss: 0.4981 - accuracy: 0.8196 - val_loss: 0.6767 - val_accuracy: 0.7292\n",
      "Epoch 16/20\n",
      "235/235 [==============================] - 1s 4ms/step - loss: 0.4753 - accuracy: 0.8291 - val_loss: 0.6756 - val_accuracy: 0.7196\n",
      "Epoch 17/20\n",
      "235/235 [==============================] - 1s 5ms/step - loss: 0.4561 - accuracy: 0.8317 - val_loss: 0.6423 - val_accuracy: 0.7508\n",
      "Epoch 18/20\n",
      "235/235 [==============================] - 1s 6ms/step - loss: 0.4340 - accuracy: 0.8396 - val_loss: 0.6716 - val_accuracy: 0.7520\n",
      "Epoch 19/20\n",
      "235/235 [==============================] - 1s 4ms/step - loss: 0.4152 - accuracy: 0.8477 - val_loss: 0.6320 - val_accuracy: 0.7456\n",
      "Epoch 20/20\n",
      "235/235 [==============================] - 1s 4ms/step - loss: 0.3986 - accuracy: 0.8511 - val_loss: 0.6254 - val_accuracy: 0.7564\n"
     ]
    }
   ],
   "source": [
    "loss = model.fit(X_train, y_train, validation_data = (X_test, y_test), epochs = 20)"
   ]
  },
  {
   "cell_type": "code",
   "execution_count": 16,
   "id": "ed723aff",
   "metadata": {},
   "outputs": [
    {
     "data": {
      "text/plain": [
       "<AxesSubplot:>"
      ]
     },
     "execution_count": 16,
     "metadata": {},
     "output_type": "execute_result"
    },
    {
     "data": {
      "image/png": "[encoded data removed]",
      "text/plain": [
       "<Figure size 432x288 with 1 Axes>"
      ]
     },
     "metadata": {
      "needs_background": "light"
     },
     "output_type": "display_data"
    }
   ],
   "source": [
    "pd.DataFrame(loss.history)[['loss', 'val_loss']].plot()"
   ]
  },
  {
   "cell_type": "markdown",
   "id": "abcd38fc",
   "metadata": {},
   "source": [
    " "
   ]
  },
  {
   "cell_type": "markdown",
   "id": "ecb7db32",
   "metadata": {},
   "source": [
    "Pridėta daugiau galios ir dropout"
   ]
  },
  {
   "cell_type": "code",
   "execution_count": 17,
   "id": "d8032eff",
   "metadata": {
    "scrolled": false
   },
   "outputs": [
    {
     "name": "stdout",
     "output_type": "stream",
     "text": [
      "Model: \"sequential_3\"\n",
      "_________________________________________________________________\n",
      " Layer (type)                Output Shape              Param #   \n",
      "=================================================================\n",
      " flatten_3 (Flatten)         (None, 2500)              0         \n",
      "                                                                 \n",
      " dense_9 (Dense)             (None, 128)               320128    \n",
      "                                                                 \n",
      " dropout (Dropout)           (None, 128)               0         \n",
      "                                                                 \n",
      " dense_10 (Dense)            (None, 64)                8256      \n",
      "                                                                 \n",
      " dropout_1 (Dropout)         (None, 64)                0         \n",
      "                                                                 \n",
      " dense_11 (Dense)            (None, 32)                2080      \n",
      "                                                                 \n",
      " dropout_2 (Dropout)         (None, 32)                0         \n",
      "                                                                 \n",
      " dense_12 (Dense)            (None, 10)                330       \n",
      "                                                                 \n",
      "=================================================================\n",
      "Total params: 330,794\n",
      "Trainable params: 330,794\n",
      "Non-trainable params: 0\n",
      "_________________________________________________________________\n"
     ]
    }
   ],
   "source": [
    "model = keras.models.Sequential()\n",
    "model.add(keras.layers.Flatten(input_shape = (50, 50)))\n",
    "model.add(keras.layers.Dense(128, activation = 'relu'))\n",
    "model.add(keras.layers.Dropout(0.2))\n",
    "model.add(keras.layers.Dense(64, activation = 'relu'))\n",
    "model.add(keras.layers.Dropout(0.2))\n",
    "model.add(keras.layers.Dense(32, activation = 'relu'))\n",
    "model.add(keras.layers.Dropout(0.2))\n",
    "model.add(keras.layers.Dense(10, activation = 'softmax'))\n",
    "model.compile(loss = 'sparse_categorical_crossentropy', \n",
    "              optimizer = keras.optimizers.Adam(3e-4),\n",
    "              metrics = ['accuracy'])\n",
    "model.summary()"
   ]
  },
  {
   "cell_type": "code",
   "execution_count": 18,
   "id": "e1a37346",
   "metadata": {
    "scrolled": true
   },
   "outputs": [
    {
     "name": "stdout",
     "output_type": "stream",
     "text": [
      "Epoch 1/30\n",
      "235/235 [==============================] - 2s 7ms/step - loss: 1.7758 - accuracy: 0.3140 - val_loss: 1.4125 - val_accuracy: 0.4336\n",
      "Epoch 2/30\n",
      "235/235 [==============================] - 1s 6ms/step - loss: 1.4662 - accuracy: 0.4109 - val_loss: 1.2645 - val_accuracy: 0.4908\n",
      "Epoch 3/30\n",
      "235/235 [==============================] - 1s 5ms/step - loss: 1.3335 - accuracy: 0.4517 - val_loss: 1.1618 - val_accuracy: 0.5220\n",
      "Epoch 4/30\n",
      "235/235 [==============================] - 2s 7ms/step - loss: 1.2367 - accuracy: 0.4856 - val_loss: 1.0912 - val_accuracy: 0.5476\n",
      "Epoch 5/30\n",
      "235/235 [==============================] - 2s 10ms/step - loss: 1.1609 - accuracy: 0.5185 - val_loss: 1.0164 - val_accuracy: 0.5848\n",
      "Epoch 6/30\n",
      "235/235 [==============================] - 1s 5ms/step - loss: 1.0797 - accuracy: 0.5441 - val_loss: 0.9455 - val_accuracy: 0.6152\n",
      "Epoch 7/30\n",
      "235/235 [==============================] - 1s 6ms/step - loss: 1.0055 - accuracy: 0.5764 - val_loss: 0.8913 - val_accuracy: 0.6324\n",
      "Epoch 8/30\n",
      "235/235 [==============================] - 1s 5ms/step - loss: 0.9430 - accuracy: 0.6040 - val_loss: 0.8270 - val_accuracy: 0.6628\n",
      "Epoch 9/30\n",
      "235/235 [==============================] - 1s 4ms/step - loss: 0.8751 - accuracy: 0.6319 - val_loss: 0.7841 - val_accuracy: 0.6948\n",
      "Epoch 10/30\n",
      "235/235 [==============================] - 2s 6ms/step - loss: 0.8566 - accuracy: 0.6420 - val_loss: 0.7442 - val_accuracy: 0.7016\n",
      "Epoch 11/30\n",
      "235/235 [==============================] - 1s 5ms/step - loss: 0.8000 - accuracy: 0.6685 - val_loss: 0.7126 - val_accuracy: 0.7116\n",
      "Epoch 12/30\n",
      "235/235 [==============================] - 2s 7ms/step - loss: 0.7664 - accuracy: 0.6781 - val_loss: 0.6947 - val_accuracy: 0.7160\n",
      "Epoch 13/30\n",
      "235/235 [==============================] - 1s 6ms/step - loss: 0.7471 - accuracy: 0.6991 - val_loss: 0.6752 - val_accuracy: 0.7292\n",
      "Epoch 14/30\n",
      "235/235 [==============================] - 1s 5ms/step - loss: 0.7150 - accuracy: 0.7081 - val_loss: 0.6694 - val_accuracy: 0.7296\n",
      "Epoch 15/30\n",
      "235/235 [==============================] - 1s 6ms/step - loss: 0.6920 - accuracy: 0.7224 - val_loss: 0.6548 - val_accuracy: 0.7416\n",
      "Epoch 16/30\n",
      "235/235 [==============================] - 2s 8ms/step - loss: 0.6608 - accuracy: 0.7328 - val_loss: 0.6408 - val_accuracy: 0.7344\n",
      "Epoch 17/30\n",
      "235/235 [==============================] - 1s 6ms/step - loss: 0.6462 - accuracy: 0.7360 - val_loss: 0.6191 - val_accuracy: 0.7580\n",
      "Epoch 18/30\n",
      "235/235 [==============================] - 1s 5ms/step - loss: 0.6327 - accuracy: 0.7501 - val_loss: 0.6260 - val_accuracy: 0.7484\n",
      "Epoch 19/30\n",
      "235/235 [==============================] - 1s 5ms/step - loss: 0.6114 - accuracy: 0.7528 - val_loss: 0.6157 - val_accuracy: 0.7528\n",
      "Epoch 20/30\n",
      "235/235 [==============================] - 1s 5ms/step - loss: 0.5995 - accuracy: 0.7600 - val_loss: 0.6018 - val_accuracy: 0.7660\n",
      "Epoch 21/30\n",
      "235/235 [==============================] - 2s 7ms/step - loss: 0.5907 - accuracy: 0.7641 - val_loss: 0.6157 - val_accuracy: 0.7540\n",
      "Epoch 22/30\n",
      "235/235 [==============================] - 1s 6ms/step - loss: 0.5693 - accuracy: 0.7753 - val_loss: 0.6111 - val_accuracy: 0.7616\n",
      "Epoch 23/30\n",
      "235/235 [==============================] - 1s 4ms/step - loss: 0.5825 - accuracy: 0.7641 - val_loss: 0.6175 - val_accuracy: 0.7592\n",
      "Epoch 24/30\n",
      "235/235 [==============================] - 1s 4ms/step - loss: 0.5497 - accuracy: 0.7809 - val_loss: 0.6066 - val_accuracy: 0.7768\n",
      "Epoch 25/30\n",
      "235/235 [==============================] - 2s 9ms/step - loss: 0.5320 - accuracy: 0.7900 - val_loss: 0.6130 - val_accuracy: 0.7708\n",
      "Epoch 26/30\n",
      "235/235 [==============================] - 2s 7ms/step - loss: 0.5230 - accuracy: 0.7955 - val_loss: 0.6036 - val_accuracy: 0.7752\n",
      "Epoch 27/30\n",
      "235/235 [==============================] - 1s 6ms/step - loss: 0.5215 - accuracy: 0.7907 - val_loss: 0.5826 - val_accuracy: 0.7800\n",
      "Epoch 28/30\n",
      "235/235 [==============================] - 1s 6ms/step - loss: 0.5083 - accuracy: 0.7971 - val_loss: 0.5789 - val_accuracy: 0.7880\n",
      "Epoch 29/30\n",
      "235/235 [==============================] - 2s 9ms/step - loss: 0.5017 - accuracy: 0.7985 - val_loss: 0.5725 - val_accuracy: 0.7900\n",
      "Epoch 30/30\n",
      "235/235 [==============================] - 1s 6ms/step - loss: 0.4929 - accuracy: 0.8059 - val_loss: 0.5793 - val_accuracy: 0.7884\n"
     ]
    }
   ],
   "source": [
    "loss = model.fit(X_train, y_train, validation_data = (X_test, y_test), epochs = 30)"
   ]
  },
  {
   "cell_type": "code",
   "execution_count": 19,
   "id": "ce9a5da0",
   "metadata": {
    "scrolled": true
   },
   "outputs": [
    {
     "data": {
      "text/plain": [
       "<AxesSubplot:>"
      ]
     },
     "execution_count": 19,
     "metadata": {},
     "output_type": "execute_result"
    },
    {
     "data": {
      "image/png": "[encoded data removed]",
      "text/plain": [
       "<Figure size 432x288 with 1 Axes>"
      ]
     },
     "metadata": {
      "needs_background": "light"
     },
     "output_type": "display_data"
    }
   ],
   "source": [
    "pd.DataFrame(loss.history)[['loss', 'val_loss']].plot()"
   ]
  },
  {
   "cell_type": "code",
   "execution_count": 20,
   "id": "5d1a4278",
   "metadata": {},
   "outputs": [],
   "source": [
    "model.save('model.h5')"
   ]
  },
  {
   "cell_type": "markdown",
   "id": "23c6e5a6",
   "metadata": {},
   "source": [
    "# Test your model"
   ]
  },
  {
   "cell_type": "code",
   "execution_count": 21,
   "id": "864c5f2a",
   "metadata": {},
   "outputs": [
    {
     "data": {
      "text/plain": [
       "0.8435"
      ]
     },
     "execution_count": 21,
     "metadata": {},
     "output_type": "execute_result"
    }
   ],
   "source": [
    "model = keras.models.load_model('model.h5')\n",
    "evaluate('flatland_train.data', model)"
   ]
  }
 ],
 "metadata": {
  "kernelspec": {
   "display_name": "Python 3",
   "language": "python",
   "name": "python3"
  },
  "language_info": {
   "codemirror_mode": {
    "name": "ipython",
    "version": 3
   },
   "file_extension": ".py",
   "mimetype": "text/x-python",
   "name": "python",
   "nbconvert_exporter": "python",
   "pygments_lexer": "ipython3",
   "version": "3.8.8"
  }
 },
 "nbformat": 4,
 "nbformat_minor": 5
}
