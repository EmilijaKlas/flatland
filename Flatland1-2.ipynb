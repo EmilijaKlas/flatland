{
 "cells": [
  {
   "cell_type": "code",
   "execution_count": 1,
   "id": "ec207bd3",
   "metadata": {},
   "outputs": [],
   "source": [
    "from collections import Counter\n",
    "from tensorflow import keras\n",
    "import numpy as np\n",
    "import pandas as pd\n",
    "from sklearn.model_selection import train_test_split"
   ]
  },
  {
   "cell_type": "code",
   "execution_count": 2,
   "id": "7bd9e669",
   "metadata": {},
   "outputs": [],
   "source": [
    "import gzip\n",
    "import pickle\n",
    "\n",
    "def evaluate(path, model):\n",
    "    X, y = pickle.load(gzip.open(path, 'rb'))\n",
    "    y[y != 0] -= 2\n",
    "    X = X / 255.\n",
    "    acc = np.mean(model(X).numpy().argmax(axis=1) == y)\n",
    "    return acc"
   ]
  },
  {
   "cell_type": "markdown",
   "id": "39100df2",
   "metadata": {},
   "source": [
    "# Loading data"
   ]
  },
  {
   "cell_type": "code",
   "execution_count": 3,
   "id": "dc3fc9e6",
   "metadata": {},
   "outputs": [],
   "source": [
    "path = 'flatland_train.data'\n",
    "X, y = pickle.load(gzip.open(path, 'rb'))\n",
    "\n",
    "# data pre-proc\n",
    "y[y != 0] -= 2  # labels from 0 to 4\n",
    "X = X / 255.    # in range [0,1]"
   ]
  },
  {
   "cell_type": "code",
   "execution_count": 4,
   "id": "80bb96d5",
   "metadata": {
    "scrolled": true
   },
   "outputs": [
    {
     "data": {
      "text/plain": [
       "Counter({2.0: 1868, 4.0: 1761, 3.0: 2137, 1.0: 2853, 0.0: 1381})"
      ]
     },
     "execution_count": 4,
     "metadata": {},
     "output_type": "execute_result"
    }
   ],
   "source": [
    "Counter(y)"
   ]
  },
  {
   "cell_type": "code",
   "execution_count": 42,
   "id": "9a3d1a71",
   "metadata": {},
   "outputs": [],
   "source": [
    "X_train, X_test, y_train, y_test = train_test_split(X, y, random_state = 42)"
   ]
  },
  {
   "cell_type": "code",
   "execution_count": 6,
   "id": "8cac2576",
   "metadata": {
    "scrolled": true
   },
   "outputs": [
    {
     "data": {
      "text/plain": [
       "(7500, 50, 50)"
      ]
     },
     "execution_count": 6,
     "metadata": {},
     "output_type": "execute_result"
    }
   ],
   "source": [
    "X_train.shape"
   ]
  },
  {
   "cell_type": "code",
   "execution_count": 7,
   "id": "3cec919a",
   "metadata": {},
   "outputs": [
    {
     "data": {
      "text/plain": [
       "(7500,)"
      ]
     },
     "execution_count": 7,
     "metadata": {},
     "output_type": "execute_result"
    }
   ],
   "source": [
    "y_train.shape"
   ]
  },
  {
   "cell_type": "markdown",
   "id": "e3784ab1",
   "metadata": {},
   "source": [
    "# DNN \n",
    "Deep neural network"
   ]
  },
  {
   "cell_type": "code",
   "execution_count": 43,
   "id": "d8032eff",
   "metadata": {
    "scrolled": false
   },
   "outputs": [
    {
     "name": "stdout",
     "output_type": "stream",
     "text": [
      "Model: \"sequential_6\"\n",
      "_________________________________________________________________\n",
      " Layer (type)                Output Shape              Param #   \n",
      "=================================================================\n",
      " flatten_6 (Flatten)         (None, 2500)              0         \n",
      "                                                                 \n",
      " dense_17 (Dense)            (None, 128)               320128    \n",
      "                                                                 \n",
      " dropout_4 (Dropout)         (None, 128)               0         \n",
      "                                                                 \n",
      " dense_18 (Dense)            (None, 64)                8256      \n",
      "                                                                 \n",
      " dropout_5 (Dropout)         (None, 64)                0         \n",
      "                                                                 \n",
      " dense_19 (Dense)            (None, 5)                 325       \n",
      "                                                                 \n",
      "=================================================================\n",
      "Total params: 328,709\n",
      "Trainable params: 328,709\n",
      "Non-trainable params: 0\n",
      "_________________________________________________________________\n"
     ]
    }
   ],
   "source": [
    "model = keras.models.Sequential()\n",
    "model.add(keras.layers.Flatten(input_shape = (50, 50)))\n",
    "model.add(keras.layers.Dense(128, activation = 'relu'))\n",
    "model.add(keras.layers.Dropout(0.2))\n",
    "model.add(keras.layers.Dense(64, activation = 'relu'))\n",
    "model.add(keras.layers.Dropout(0.2))\n",
    "model.add(keras.layers.Dense(5, activation = 'softmax'))\n",
    "model.compile(loss = 'sparse_categorical_crossentropy', \n",
    "              optimizer = keras.optimizers.Adam(3e-4),\n",
    "              metrics = ['accuracy'])\n",
    "# if you use categorical_crossentropy, then it expect one hot encoded output\n",
    "model.summary()"
   ]
  },
  {
   "cell_type": "code",
   "execution_count": 53,
   "id": "e1a37346",
   "metadata": {
    "scrolled": true
   },
   "outputs": [
    {
     "name": "stdout",
     "output_type": "stream",
     "text": [
      "Epoch 1/20\n",
      "235/235 [==============================] - 1s 5ms/step - loss: 0.4945 - accuracy: 0.8040 - val_loss: 0.6357 - val_accuracy: 0.7572\n",
      "Epoch 2/20\n",
      "235/235 [==============================] - 1s 4ms/step - loss: 0.4833 - accuracy: 0.8085 - val_loss: 0.6155 - val_accuracy: 0.7684\n",
      "Epoch 3/20\n",
      "235/235 [==============================] - 1s 4ms/step - loss: 0.4650 - accuracy: 0.8129 - val_loss: 0.6355 - val_accuracy: 0.7636\n",
      "Epoch 4/20\n",
      "235/235 [==============================] - 1s 4ms/step - loss: 0.4624 - accuracy: 0.8195 - val_loss: 0.6458 - val_accuracy: 0.7612\n",
      "Epoch 5/20\n",
      "235/235 [==============================] - 1s 4ms/step - loss: 0.4695 - accuracy: 0.8104 - val_loss: 0.6079 - val_accuracy: 0.7768\n",
      "Epoch 6/20\n",
      "235/235 [==============================] - 1s 4ms/step - loss: 0.4538 - accuracy: 0.8257 - val_loss: 0.6259 - val_accuracy: 0.7676\n",
      "Epoch 7/20\n",
      "235/235 [==============================] - 1s 4ms/step - loss: 0.4390 - accuracy: 0.8257 - val_loss: 0.6110 - val_accuracy: 0.7668\n",
      "Epoch 8/20\n",
      "235/235 [==============================] - 1s 4ms/step - loss: 0.4388 - accuracy: 0.8295 - val_loss: 0.6071 - val_accuracy: 0.7796\n",
      "Epoch 9/20\n",
      "235/235 [==============================] - 1s 4ms/step - loss: 0.4443 - accuracy: 0.8268 - val_loss: 0.6256 - val_accuracy: 0.7712\n",
      "Epoch 10/20\n",
      "235/235 [==============================] - 1s 4ms/step - loss: 0.4355 - accuracy: 0.8272 - val_loss: 0.6131 - val_accuracy: 0.7740\n",
      "Epoch 11/20\n",
      "235/235 [==============================] - 1s 4ms/step - loss: 0.4289 - accuracy: 0.8345 - val_loss: 0.6220 - val_accuracy: 0.7748\n",
      "Epoch 12/20\n",
      "235/235 [==============================] - 1s 4ms/step - loss: 0.4130 - accuracy: 0.8385 - val_loss: 0.6015 - val_accuracy: 0.7772\n",
      "Epoch 13/20\n",
      "235/235 [==============================] - 1s 4ms/step - loss: 0.4064 - accuracy: 0.8409 - val_loss: 0.6034 - val_accuracy: 0.7828\n",
      "Epoch 14/20\n",
      "235/235 [==============================] - 1s 4ms/step - loss: 0.4144 - accuracy: 0.8407 - val_loss: 0.6241 - val_accuracy: 0.7792\n",
      "Epoch 15/20\n",
      "235/235 [==============================] - 1s 4ms/step - loss: 0.4036 - accuracy: 0.8480 - val_loss: 0.5978 - val_accuracy: 0.7828\n",
      "Epoch 16/20\n",
      "235/235 [==============================] - 1s 4ms/step - loss: 0.3930 - accuracy: 0.8431 - val_loss: 0.6254 - val_accuracy: 0.7772\n",
      "Epoch 17/20\n",
      "235/235 [==============================] - 1s 4ms/step - loss: 0.4017 - accuracy: 0.8436 - val_loss: 0.6006 - val_accuracy: 0.7888\n",
      "Epoch 18/20\n",
      "235/235 [==============================] - 1s 4ms/step - loss: 0.3870 - accuracy: 0.8525 - val_loss: 0.6097 - val_accuracy: 0.7912\n",
      "Epoch 19/20\n",
      "235/235 [==============================] - 1s 4ms/step - loss: 0.3905 - accuracy: 0.8516 - val_loss: 0.6029 - val_accuracy: 0.7840\n",
      "Epoch 20/20\n",
      "235/235 [==============================] - 1s 4ms/step - loss: 0.3790 - accuracy: 0.8559 - val_loss: 0.6088 - val_accuracy: 0.7840\n"
     ]
    }
   ],
   "source": [
    "loss = model.fit(X_train, y_train, validation_data = (X_test, y_test), epochs = 20)"
   ]
  },
  {
   "cell_type": "code",
   "execution_count": 54,
   "id": "ce9a5da0",
   "metadata": {
    "scrolled": true
   },
   "outputs": [
    {
     "data": {
      "text/plain": [
       "<AxesSubplot:>"
      ]
     },
     "execution_count": 54,
     "metadata": {},
     "output_type": "execute_result"
    },
    {
     "data": {
      "image/png": "[encoded data removed]",
      "text/plain": [
       "<Figure size 432x288 with 1 Axes>"
      ]
     },
     "metadata": {
      "needs_background": "light"
     },
     "output_type": "display_data"
    }
   ],
   "source": [
    "pd.DataFrame(loss.history)[['loss', 'val_loss']].plot()"
   ]
  },
  {
   "cell_type": "code",
   "execution_count": 55,
   "id": "5d1a4278",
   "metadata": {},
   "outputs": [],
   "source": [
    "model.save('model.h5')"
   ]
  },
  {
   "cell_type": "markdown",
   "id": "23c6e5a6",
   "metadata": {},
   "source": [
    "# Test your model"
   ]
  },
  {
   "cell_type": "code",
   "execution_count": 56,
   "id": "864c5f2a",
   "metadata": {},
   "outputs": [
    {
     "data": {
      "text/plain": [
       "0.8938"
      ]
     },
     "execution_count": 56,
     "metadata": {},
     "output_type": "execute_result"
    }
   ],
   "source": [
    "model = keras.models.load_model('model.h5')\n",
    "evaluate('flatland_train.data', model)"
   ]
  },
  {
   "cell_type": "code",
   "execution_count": null,
   "id": "bae684fc",
   "metadata": {},
   "outputs": [],
   "source": []
  },
  {
   "cell_type": "code",
   "execution_count": null,
   "id": "35608dfa",
   "metadata": {},
   "outputs": [],
   "source": []
  },
  {
   "cell_type": "code",
   "execution_count": null,
   "id": "5f846200",
   "metadata": {},
   "outputs": [],
   "source": []
  },
  {
   "cell_type": "code",
   "execution_count": null,
   "id": "abe44e66",
   "metadata": {},
   "outputs": [],
   "source": []
  },
  {
   "cell_type": "code",
   "execution_count": null,
   "id": "6a864c42",
   "metadata": {},
   "outputs": [],
   "source": []
  },
  {
   "cell_type": "code",
   "execution_count": null,
   "id": "bb8377fb",
   "metadata": {},
   "outputs": [],
   "source": []
  }
 ],
 "metadata": {
  "kernelspec": {
   "display_name": "Python 3",
   "language": "python",
   "name": "python3"
  },
  "language_info": {
   "codemirror_mode": {
    "name": "ipython",
    "version": 3
   },
   "file_extension": ".py",
   "mimetype": "text/x-python",
   "name": "python",
   "nbconvert_exporter": "python",
   "pygments_lexer": "ipython3",
   "version": "3.8.8"
  }
 },
 "nbformat": 4,
 "nbformat_minor": 5
}
